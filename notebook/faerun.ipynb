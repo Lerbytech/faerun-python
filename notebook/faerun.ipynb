{
 "cells": [
  {
   "cell_type": "code",
   "execution_count": 5,
   "metadata": {
    "scrolled": false
   },
   "outputs": [
    {
     "data": {
      "text/html": [
       "\n",
       "        <iframe\n",
       "            width=\"100%\"\n",
       "            height=\"500\"\n",
       "            src=\"./helix.html\"\n",
       "            frameborder=\"0\"\n",
       "            allowfullscreen\n",
       "        ></iframe>\n",
       "        "
      ],
      "text/plain": [
       "<IPython.lib.display.IFrame at 0x7fda66ae7278>"
      ]
     },
     "execution_count": 5,
     "metadata": {},
     "output_type": "execute_result"
    }
   ],
   "source": [
    "import numpy as np\n",
    "from faerun import Faerun\n",
    "from IPython.core.display import HTML\n",
    "from IPython.display import IFrame\n",
    "\n",
    "f = Faerun(title='Faerun Example', clear_color='#ffffff', coords=True, coords_offset=100, view='front')\n",
    "\n",
    "x = np.linspace(0, 12.0, 326)\n",
    "y = np.sin(np.pi * x)\n",
    "z = np.cos(np.pi * x)\n",
    "c = np.random.randint(0, 2, len(x))\n",
    "\n",
    "data = {'x': x, 'y': y, 'z': z, 'c': c, 'labels': c}\n",
    "\n",
    "data_b = {'x': x, 'y': y + 2.5, 'z': z, 'c': c, 'labels': c}\n",
    "\n",
    "f.add_scatter('helix', data, shader='smoothCircle', colormap='Dark2', point_scale=5.0,\n",
    "              categorical=True, has_legend=True, legend_labels=[(0, 'Zero'), (1, 'One')])\n",
    "\n",
    "f.add_scatter('helix2', data_b, shader='smoothCircle', colormap='Set1', point_scale=5.0, \n",
    "              categorical=True, has_legend=True, legend_labels=[(0, 'Zero'), (1, 'One')])\n",
    "\n",
    "f.plot('helix')\n",
    "\n",
    "# IFrame(\"./helix.html\", width=\"100%\", height=500)"
   ]
  },
  {
   "cell_type": "code",
   "execution_count": null,
   "metadata": {
    "scrolled": true
   },
   "outputs": [],
   "source": []
  }
 ],
 "metadata": {
  "kernelspec": {
   "display_name": "Python 3",
   "language": "python",
   "name": "python3"
  },
  "language_info": {
   "codemirror_mode": {
    "name": "ipython",
    "version": 3
   },
   "file_extension": ".py",
   "mimetype": "text/x-python",
   "name": "python",
   "nbconvert_exporter": "python",
   "pygments_lexer": "ipython3",
   "version": "3.6.8"
  }
 },
 "nbformat": 4,
 "nbformat_minor": 2
}
