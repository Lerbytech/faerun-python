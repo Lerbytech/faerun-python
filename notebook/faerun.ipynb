{
 "cells": [
  {
   "cell_type": "code",
   "execution_count": 4,
   "metadata": {},
   "outputs": [
    {
     "data": {
      "text/html": [
       "\n",
       "        <iframe\n",
       "            width=\"100%\"\n",
       "            height=\"500\"\n",
       "            src=\"./sine.html\"\n",
       "            frameborder=\"0\"\n",
       "            allowfullscreen\n",
       "        ></iframe>\n",
       "        "
      ],
      "text/plain": [
       "<IPython.lib.display.IFrame at 0x7f59544a4470>"
      ]
     },
     "execution_count": 4,
     "metadata": {},
     "output_type": "execute_result"
    }
   ],
   "source": [
    "import numpy as np\n",
    "from faerun import Faerun\n",
    "from IPython.core.display import HTML\n",
    "from IPython.display import IFrame\n",
    "\n",
    "f = Faerun(view='front', clear_color='#fff')\n",
    "\n",
    "x = np.linspace(0, 12.0, 326)\n",
    "y = np.sin(np.pi * x)\n",
    "c = np.sin(np.pi * x)\n",
    "\n",
    "data = {'x': x, 'y': y, 'c': c, 'labels': c}\n",
    "\n",
    "f.add_scatter('Sine', data, shader='smoothCircle', colormap='viridis', point_scale=2.5,\n",
    "              has_legend=True)\n",
    "\n",
    "f.plot('sine')"
   ]
  },
  {
   "cell_type": "code",
   "execution_count": 6,
   "metadata": {
    "scrolled": false
   },
   "outputs": [
    {
     "data": {
      "text/html": [
       "\n",
       "        <iframe\n",
       "            width=\"100%\"\n",
       "            height=\"500\"\n",
       "            src=\"./helix.html\"\n",
       "            frameborder=\"0\"\n",
       "            allowfullscreen\n",
       "        ></iframe>\n",
       "        "
      ],
      "text/plain": [
       "<IPython.lib.display.IFrame at 0x7f5954470358>"
      ]
     },
     "execution_count": 6,
     "metadata": {},
     "output_type": "execute_result"
    }
   ],
   "source": [
    "f = Faerun(view='free', clear_color='#262626')\n",
    "\n",
    "x = np.linspace(0, 12.0, 326)\n",
    "y = np.sin(np.pi * x)\n",
    "z = np.cos(np.pi * x)\n",
    "c = np.random.randint(0, 2, len(x))\n",
    "\n",
    "data = {'x': x, 'y': y, 'z': z, 'c': c, 'labels': c}\n",
    "\n",
    "f.add_scatter('Helix', data, shader='sphere', colormap='Dark2', point_scale=5.0,\n",
    "              categorical=True, has_legend=True, legend_labels=[(1, 'One'), (0, 'Zero')])\n",
    "\n",
    "f.plot('helix')"
   ]
  },
  {
   "cell_type": "code",
   "execution_count": null,
   "metadata": {
    "scrolled": true
   },
   "outputs": [],
   "source": []
  },
  {
   "cell_type": "code",
   "execution_count": null,
   "metadata": {},
   "outputs": [],
   "source": []
  }
 ],
 "metadata": {
  "kernelspec": {
   "display_name": "Python 3",
   "language": "python",
   "name": "python3"
  },
  "language_info": {
   "codemirror_mode": {
    "name": "ipython",
    "version": 3
   },
   "file_extension": ".py",
   "mimetype": "text/x-python",
   "name": "python",
   "nbconvert_exporter": "python",
   "pygments_lexer": "ipython3",
   "version": "3.7.3"
  }
 },
 "nbformat": 4,
 "nbformat_minor": 2
}
