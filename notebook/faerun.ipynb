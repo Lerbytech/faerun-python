{
 "cells": [
  {
   "cell_type": "code",
   "execution_count": 1,
   "metadata": {},
   "outputs": [
    {
     "ename": "ValueError",
     "evalue": "Unknown format code 'f' for object of type 'str'",
     "output_type": "error",
     "traceback": [
      "\u001b[0;31m---------------------------------------------------------------------------\u001b[0m",
      "\u001b[0;31mValueError\u001b[0m                                Traceback (most recent call last)",
      "\u001b[0;32m<ipython-input-1-bb9283bbdd3c>\u001b[0m in \u001b[0;36m<module>\u001b[0;34m\u001b[0m\n\u001b[1;32m     13\u001b[0m \u001b[0;34m\u001b[0m\u001b[0m\n\u001b[1;32m     14\u001b[0m f.add_scatter('helix', data, shader='smoothCircle', colormap='viridis', point_scale=2.5,\n\u001b[0;32m---> 15\u001b[0;31m               has_legend=True)\n\u001b[0m\u001b[1;32m     16\u001b[0m \u001b[0;34m\u001b[0m\u001b[0m\n\u001b[1;32m     17\u001b[0m \u001b[0mf\u001b[0m\u001b[0;34m.\u001b[0m\u001b[0mplot\u001b[0m\u001b[0;34m(\u001b[0m\u001b[0;34m'sin'\u001b[0m\u001b[0;34m)\u001b[0m\u001b[0;34m\u001b[0m\u001b[0;34m\u001b[0m\u001b[0m\n",
      "\u001b[0;32m~/miniconda3/lib/python3.6/site-packages/faerun/faerun.py\u001b[0m in \u001b[0;36madd_scatter\u001b[0;34m(self, name, data, mapping, colormap, shader, point_scale, max_point_size, fog_intensity, saturation_limit, categorical, interactive, has_legend, legend_title, legend_labels, min_legend_label, max_legend_label)\u001b[0m\n\u001b[1;32m    310\u001b[0m             \u001b[0;34m\"min_c\"\u001b[0m\u001b[0;34m:\u001b[0m \u001b[0mmin_c\u001b[0m\u001b[0;34m,\u001b[0m\u001b[0;34m\u001b[0m\u001b[0;34m\u001b[0m\u001b[0m\n\u001b[1;32m    311\u001b[0m             \u001b[0;34m\"max_c\"\u001b[0m\u001b[0;34m:\u001b[0m \u001b[0mmax_c\u001b[0m\u001b[0;34m,\u001b[0m\u001b[0;34m\u001b[0m\u001b[0;34m\u001b[0m\u001b[0m\n\u001b[0;32m--> 312\u001b[0;31m             \u001b[0;34m\"min_legend_label\"\u001b[0m\u001b[0;34m:\u001b[0m \u001b[0mself\u001b[0m\u001b[0;34m.\u001b[0m\u001b[0mlegend_number_format\u001b[0m\u001b[0;34m.\u001b[0m\u001b[0mformat\u001b[0m\u001b[0;34m(\u001b[0m\u001b[0mmin_legend_label\u001b[0m\u001b[0;34m)\u001b[0m\u001b[0;34m,\u001b[0m\u001b[0;34m\u001b[0m\u001b[0;34m\u001b[0m\u001b[0m\n\u001b[0m\u001b[1;32m    313\u001b[0m             \u001b[0;34m\"max_legend_label\"\u001b[0m\u001b[0;34m:\u001b[0m \u001b[0mself\u001b[0m\u001b[0;34m.\u001b[0m\u001b[0mlegend_number_format\u001b[0m\u001b[0;34m.\u001b[0m\u001b[0mformat\u001b[0m\u001b[0;34m(\u001b[0m\u001b[0mmax_legend_label\u001b[0m\u001b[0;34m)\u001b[0m\u001b[0;34m,\u001b[0m\u001b[0;34m\u001b[0m\u001b[0;34m\u001b[0m\u001b[0m\n\u001b[1;32m    314\u001b[0m         }\n",
      "\u001b[0;31mValueError\u001b[0m: Unknown format code 'f' for object of type 'str'"
     ]
    }
   ],
   "source": [
    "import numpy as np\n",
    "from faerun import Faerun\n",
    "from IPython.core.display import HTML\n",
    "from IPython.display import IFrame\n",
    "\n",
    "f = Faerun(view='front', clear_color='#fff')\n",
    "\n",
    "x = np.linspace(0, 12.0, 326)\n",
    "y = np.sin(np.pi * x)\n",
    "c = np.sin(np.pi * x)\n",
    "\n",
    "data = {'x': x, 'y': y, 'c': c, 'labels': c}\n",
    "\n",
    "f.add_scatter('helix', data, shader='smoothCircle', colormap='viridis', point_scale=2.5,\n",
    "              has_legend=True)\n",
    "\n",
    "f.plot('sin')"
   ]
  },
  {
   "cell_type": "code",
   "execution_count": null,
   "metadata": {
    "scrolled": false
   },
   "outputs": [],
   "source": [
    "f = Faerun(view='free', clear_color='#262626')\n",
    "\n",
    "x = np.linspace(0, 12.0, 326)\n",
    "y = np.sin(np.pi * x)\n",
    "z = np.cos(np.pi * x)\n",
    "c = np.random.randint(0, 2, len(x))\n",
    "\n",
    "data = {'x': x, 'y': y, 'z': z, 'c': c, 'labels': c}\n",
    "\n",
    "f.add_scatter('helix', data, shader='sphere', colormap='Dark2', point_scale=5.0,\n",
    "              categorical=True, has_legend=True, legend_labels=[(1, 'One'), (0, 'Zero')])\n",
    "\n",
    "f.plot('helix')"
   ]
  },
  {
   "cell_type": "code",
   "execution_count": null,
   "metadata": {
    "scrolled": true
   },
   "outputs": [],
   "source": []
  },
  {
   "cell_type": "code",
   "execution_count": null,
   "metadata": {},
   "outputs": [],
   "source": []
  }
 ],
 "metadata": {
  "kernelspec": {
   "display_name": "Python 3",
   "language": "python",
   "name": "python3"
  },
  "language_info": {
   "codemirror_mode": {
    "name": "ipython",
    "version": 3
   },
   "file_extension": ".py",
   "mimetype": "text/x-python",
   "name": "python",
   "nbconvert_exporter": "python",
   "pygments_lexer": "ipython3",
   "version": "3.6.8"
  }
 },
 "nbformat": 4,
 "nbformat_minor": 2
}
